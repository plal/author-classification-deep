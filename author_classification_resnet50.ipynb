{
 "cells": [
  {
   "cell_type": "code",
   "execution_count": 49,
   "metadata": {},
   "outputs": [],
   "source": [
    "# Put these at the top of every notebook, to get automatic reloading and inline plotting\n",
    "%reload_ext autoreload\n",
    "%autoreload 2\n",
    "%matplotlib inline"
   ]
  },
  {
   "cell_type": "code",
   "execution_count": 50,
   "metadata": {},
   "outputs": [],
   "source": [
    "import os\n",
    "import pandas as pd"
   ]
  },
  {
   "cell_type": "code",
   "execution_count": 51,
   "metadata": {},
   "outputs": [],
   "source": [
    "from fastai.imports import *\n",
    "from fastai.transforms import *\n",
    "from fastai.conv_learner import *\n",
    "from fastai.model import *\n",
    "from fastai.dataset import *\n",
    "from fastai.sgdr import *\n",
    "from fastai.plots import *"
   ]
  },
  {
   "cell_type": "code",
   "execution_count": 52,
   "metadata": {},
   "outputs": [],
   "source": [
    "torch.cuda.set_device(1)"
   ]
  },
  {
   "cell_type": "code",
   "execution_count": 53,
   "metadata": {},
   "outputs": [
    {
     "data": {
      "text/plain": [
       "4366"
      ]
     },
     "execution_count": 53,
     "metadata": {},
     "output_type": "execute_result"
    }
   ],
   "source": [
    "PATH = 'words/'\n",
    "csv_path = PATH + 'csv_files/c03.csv'\n",
    "n = len(list(open(csv_path))) - 1 # -1 to ignore the header line\n",
    "n"
   ]
  },
  {
   "cell_type": "code",
   "execution_count": 54,
   "metadata": {},
   "outputs": [],
   "source": [
    "\n",
    "arch = resnet50\n",
    "sz = 64\n",
    "bs = 64\n",
    "val_idxs = get_cv_idxs(n)\n",
    "tfms = tfms_from_model(arch, sz)\n",
    "\n",
    "data = ImageClassifierData.from_csv(path = PATH, folder = 'png_files', \n",
    "                                    csv_fname = csv_path, bs = bs, \n",
    "                                    tfms = tfms, val_idxs = val_idxs, \n",
    "                                    test_name = None )"
   ]
  },
  {
   "cell_type": "code",
   "execution_count": 55,
   "metadata": {},
   "outputs": [],
   "source": [
    "# comparing instances of dataset object and original data\n",
    "\n",
    "# picking first image (index 0)\n",
    "x1 = data.trn_ds.get_x(0)\n",
    "\n",
    "# picking file name of first image\n",
    "path = data.trn_ds.fnames[0]\n",
    "x2 = plt.imread(PATH + path)\n",
    "# image in grayscale, repeat it 3 times to get RGB values\n",
    "x2 = np.stack((x2, x2, x2), axis = 2)\n",
    "\n"
   ]
  },
  {
   "cell_type": "code",
   "execution_count": 56,
   "metadata": {},
   "outputs": [
    {
     "data": {
      "text/plain": [
       "(-0.5, 122.5, 97.5, -0.5)"
      ]
     },
     "execution_count": 56,
     "metadata": {},
     "output_type": "execute_result"
    },
    {
     "data": {
      "image/png": "[encoded data removed]",
      "text/plain": [
       "<Figure size 432x288 with 2 Axes>"
      ]
     },
     "metadata": {},
     "output_type": "display_data"
    }
   ],
   "source": [
    "fig, ax = plt.subplots(1, 2)\n",
    "ax[0].imshow(x1)\n",
    "ax[0].axis('off')\n",
    "ax[0].set(title = 'dataset object')\n",
    "ax[1].imshow(x2)\n",
    "ax[1].set(title = 'original data')\n",
    "ax[1].axis('off')"
   ]
  },
  {
   "cell_type": "code",
   "execution_count": 57,
   "metadata": {},
   "outputs": [
    {
     "data": {
      "text/plain": [
       "['words/png_files/c03-000a-00-00.png']"
      ]
     },
     "execution_count": 57,
     "metadata": {},
     "output_type": "execute_result"
    }
   ],
   "source": [
    "fn = [PATH + data.trn_ds.fnames[0]]; fn"
   ]
  },
  {
   "cell_type": "code",
   "execution_count": 58,
   "metadata": {},
   "outputs": [],
   "source": [
    "def get_data(sz):\n",
    "    tfms = tfms_from_model(f_model, sz)\n",
    "    return ImageClassifierData.from_csv(path = PATH, folder = 'png_files', \n",
    "                                    csv_fname = csv_path, \n",
    "                                    tfms = tfms, val_idxs = val_idxs, \n",
    "                                    test_name = None )"
   ]
  },
  {
   "cell_type": "code",
   "execution_count": 59,
   "metadata": {},
   "outputs": [
    {
     "name": "stderr",
     "output_type": "stream",
     "text": [
      "Downloading: \"https://download.pytorch.org/models/resnet50-19c8e357.pth\" to /home/pedro2/.torch/models/resnet50-19c8e357.pth\n",
      "\n",
      "  0%|          | 0/102502400 [00:00<?, ?it/s]\u001b[A\n",
      "  0%|          | 106496/102502400 [00:00<01:37, 1052799.71it/s]\u001b[A\n",
      "  0%|          | 319488/102502400 [00:00<01:23, 1230619.31it/s]\u001b[A\n",
      "  1%|          | 786432/102502400 [00:00<01:04, 1578743.96it/s]\u001b[A\n",
      "  2%|▏         | 1843200/102502400 [00:00<00:47, 2119123.01it/s]\u001b[A\n",
      "  3%|▎         | 2785280/102502400 [00:00<00:36, 2760718.52it/s]\u001b[A\n",
      "  3%|▎         | 3465216/102502400 [00:00<00:29, 3330135.54it/s]\u001b[A\n",
      "  4%|▍         | 4251648/102502400 [00:00<00:24, 4018104.76it/s]\u001b[A\n",
      "  5%|▌         | 5193728/102502400 [00:00<00:20, 4761178.11it/s]\u001b[A\n",
      "  6%|▌         | 6266880/102502400 [00:00<00:16, 5695101.73it/s]\u001b[A\n",
      "  7%|▋         | 7471104/102502400 [00:01<00:14, 6571143.14it/s]\u001b[A\n",
      "  8%|▊         | 8601600/102502400 [00:01<00:12, 7514823.46it/s]\u001b[A\n",
      " 10%|▉         | 9748480/102502400 [00:01<00:11, 8283729.04it/s]\u001b[A\n",
      " 11%|█         | 11182080/102502400 [00:01<00:09, 9371862.51it/s]\u001b[A\n",
      " 12%|█▏        | 12656640/102502400 [00:01<00:08, 10214769.92it/s]\u001b[A\n",
      " 14%|█▍        | 14229504/102502400 [00:01<00:07, 11113331.60it/s]\u001b[A\n",
      " 15%|█▌        | 15876096/102502400 [00:01<00:07, 12307504.66it/s]\u001b[A\n",
      " 17%|█▋        | 17653760/102502400 [00:01<00:06, 13203144.17it/s]\u001b[A\n",
      " 19%|█▉        | 19587072/102502400 [00:01<00:05, 14448161.73it/s]\u001b[A\n",
      " 21%|██▏       | 21823488/102502400 [00:02<00:05, 16134740.42it/s]\u001b[A\n",
      " 24%|██▎       | 24297472/102502400 [00:02<00:04, 17824658.65it/s]\u001b[A\n",
      " 26%|██▋       | 27115520/102502400 [00:02<00:03, 19687101.89it/s]\u001b[A\n",
      " 30%|██▉       | 30638080/102502400 [00:02<00:03, 22688519.06it/s]\u001b[A\n",
      " 33%|███▎      | 34086912/102502400 [00:02<00:02, 24932862.21it/s]\u001b[A\n",
      " 37%|███▋      | 37683200/102502400 [00:02<00:02, 27190752.05it/s]\u001b[A\n",
      " 40%|████      | 41213952/102502400 [00:02<00:02, 29201407.40it/s]\u001b[A\n",
      " 44%|████▎     | 44818432/102502400 [00:02<00:01, 30960711.70it/s]\u001b[A\n",
      " 47%|████▋     | 48349184/102502400 [00:02<00:01, 31903832.93it/s]\u001b[A\n",
      " 51%|█████     | 52051968/102502400 [00:02<00:01, 32719750.63it/s]\u001b[A\n",
      " 55%|█████▍    | 55885824/102502400 [00:03<00:01, 33909406.15it/s]\u001b[A\n",
      " 58%|█████▊    | 59359232/102502400 [00:03<00:01, 34149050.17it/s]\u001b[A\n",
      " 61%|██████▏   | 62873600/102502400 [00:03<00:01, 34439434.72it/s]\u001b[A\n",
      " 65%|██████▍   | 66363392/102502400 [00:03<00:01, 33987366.49it/s]\u001b[A\n",
      " 68%|██████▊   | 70090752/102502400 [00:03<00:00, 34910304.95it/s]\u001b[A\n",
      " 72%|███████▏  | 73613312/102502400 [00:03<00:00, 34584557.13it/s]\u001b[A\n",
      " 75%|███████▌  | 77283328/102502400 [00:03<00:00, 35075064.04it/s]\u001b[A\n",
      " 79%|███████▉  | 80887808/102502400 [00:03<00:00, 34461854.66it/s]\u001b[A\n",
      " 83%|████████▎ | 84688896/102502400 [00:03<00:00, 35241071.79it/s]\u001b[A\n",
      " 86%|████████▌ | 88227840/102502400 [00:03<00:00, 34656139.10it/s]\u001b[A\n",
      " 90%|████████▉ | 91914240/102502400 [00:04<00:00, 35079887.52it/s]\u001b[A\n",
      " 93%|█████████▎| 95436800/102502400 [00:04<00:00, 35034758.66it/s]\u001b[A\n",
      " 97%|█████████▋| 99000320/102502400 [00:04<00:00, 35038128.91it/s]\u001b[A\n",
      "100%|██████████| 102502400/102502400 [00:04<00:00, 23476643.68it/s]\u001b[A"
     ]
    }
   ],
   "source": [
    "learn = ConvLearner.pretrained(arch, data)"
   ]
  },
  {
   "cell_type": "code",
   "execution_count": 60,
   "metadata": {
    "scrolled": true
   },
   "outputs": [
    {
     "data": {
      "application/vnd.jupyter.widget-view+json": {
       "model_id": "bc48fad743ff40e3ae9882603bab12c1",
       "version_major": 2,
       "version_minor": 0
      },
      "text/plain": [
       "HBox(children=(IntProgress(value=0, description='Epoch', max=1), HTML(value='')))"
      ]
     },
     "metadata": {},
     "output_type": "display_data"
    },
    {
     "name": "stdout",
     "output_type": "stream",
     "text": [
      " 93%|█████████▎| 51/55 [00:29<00:02,  1.72it/s, loss=7.19]"
     ]
    },
    {
     "data": {
      "image/png": "[encoded data removed]",
      "text/plain": [
       "<Figure size 432x288 with 1 Axes>"
      ]
     },
     "metadata": {},
     "output_type": "display_data"
    }
   ],
   "source": [
    "lrf=learn.lr_find()\n",
    "learn.sched.plot()"
   ]
  },
  {
   "cell_type": "code",
   "execution_count": 61,
   "metadata": {},
   "outputs": [
    {
     "data": {
      "application/vnd.jupyter.widget-view+json": {
       "model_id": "acff28f901c94dde992ad2dc919534ac",
       "version_major": 2,
       "version_minor": 0
      },
      "text/plain": [
       "HBox(children=(IntProgress(value=0, description='Epoch', max=7), HTML(value='')))"
      ]
     },
     "metadata": {},
     "output_type": "display_data"
    },
    {
     "name": "stdout",
     "output_type": "stream",
     "text": [
      "epoch      trn_loss   val_loss   accuracy                  \n",
      "    0      0.965554   0.567655   0.806415  \n",
      "    1      0.747235   0.435223   0.864834                  \n",
      "    2      0.606632   0.382723   0.876289                  \n",
      "    3      0.586032   0.383519   0.857961                  \n",
      "    4      0.540859   0.336443   0.890034                  \n",
      "    5      0.473465   0.298342   0.908362                  \n",
      "    6      0.434755   0.292252   0.906071                  \n"
     ]
    },
    {
     "data": {
      "text/plain": [
       "[array([0.29225]), 0.9060710205654918]"
      ]
     },
     "execution_count": 61,
     "metadata": {},
     "output_type": "execute_result"
    }
   ],
   "source": [
    "lr = 0.02\n",
    "learn.fit(lr, 3, cycle_len=1, cycle_mult=2)"
   ]
  },
  {
   "cell_type": "code",
   "execution_count": 62,
   "metadata": {},
   "outputs": [
    {
     "data": {
      "image/png": "[encoded data removed]",
      "text/plain": [
       "<Figure size 432x288 with 1 Axes>"
      ]
     },
     "metadata": {},
     "output_type": "display_data"
    }
   ],
   "source": [
    "learn.sched.plot_loss()"
   ]
  },
  {
   "cell_type": "code",
   "execution_count": 63,
   "metadata": {},
   "outputs": [
    {
     "data": {
      "image/png": "[encoded data removed]",
      "text/plain": [
       "<Figure size 432x288 with 1 Axes>"
      ]
     },
     "metadata": {},
     "output_type": "display_data"
    }
   ],
   "source": [
    "learn.sched.plot_lr()"
   ]
  },
  {
   "cell_type": "code",
   "execution_count": 64,
   "metadata": {},
   "outputs": [
    {
     "data": {
      "application/vnd.jupyter.widget-view+json": {
       "model_id": "931176a5fab04bc2bcf53357337e67c2",
       "version_major": 2,
       "version_minor": 0
      },
      "text/plain": [
       "HBox(children=(IntProgress(value=0, description='Epoch', max=7), HTML(value='')))"
      ]
     },
     "metadata": {},
     "output_type": "display_data"
    },
    {
     "name": "stdout",
     "output_type": "stream",
     "text": [
      "epoch      trn_loss   val_loss   accuracy                  \n",
      "    0      0.524434   0.205094   0.924399  \n",
      "    1      0.341509   0.135329   0.950745                  \n",
      "    2      0.226709   0.107234   0.963345                  \n",
      "    3      0.200638   0.12612    0.956472                  \n",
      "    4      0.154164   0.107452   0.961054                  \n",
      "    5      0.120888   0.086101   0.972509                  \n",
      "    6      0.100067   0.080171   0.972509                  \n"
     ]
    },
    {
     "data": {
      "text/plain": [
       "[array([0.08017]), 0.9725085921577026]"
      ]
     },
     "execution_count": 64,
     "metadata": {},
     "output_type": "execute_result"
    }
   ],
   "source": [
    "lrs = np.array([lr/9,lr/3,lr])\n",
    "learn.unfreeze()\n",
    "learn.fit(lrs, 3, cycle_len=1, cycle_mult=2)"
   ]
  },
  {
   "cell_type": "code",
   "execution_count": 65,
   "metadata": {},
   "outputs": [],
   "source": [
    "learn.save(f'{sz}')"
   ]
  },
  {
   "cell_type": "code",
   "execution_count": 66,
   "metadata": {},
   "outputs": [],
   "source": [
    "tmfs = tfms_from_model(arch, sz, aug_tfms = transforms_side_on, max_zoom = 1.1)"
   ]
  },
  {
   "cell_type": "code",
   "execution_count": 67,
   "metadata": {},
   "outputs": [],
   "source": [
    "data = ImageClassifierData.from_csv(path = PATH, folder = 'png_files', \n",
    "                                    csv_fname = csv_path, \n",
    "                                    tfms = tfms, val_idxs = val_idxs, \n",
    "                                    test_name = None )"
   ]
  },
  {
   "cell_type": "code",
   "execution_count": 68,
   "metadata": {},
   "outputs": [],
   "source": [
    "learn_data_agumentation = ConvLearner.pretrained(arch, data)"
   ]
  },
  {
   "cell_type": "code",
   "execution_count": 69,
   "metadata": {},
   "outputs": [
    {
     "data": {
      "application/vnd.jupyter.widget-view+json": {
       "model_id": "11f3c453e8cf4f9db2364c8798273390",
       "version_major": 2,
       "version_minor": 0
      },
      "text/plain": [
       "HBox(children=(IntProgress(value=0, description='Epoch', max=1), HTML(value='')))"
      ]
     },
     "metadata": {},
     "output_type": "display_data"
    },
    {
     "name": "stdout",
     "output_type": "stream",
     "text": [
      " 89%|████████▉ | 49/55 [00:27<00:03,  1.78it/s, loss=10.2]"
     ]
    },
    {
     "data": {
      "image/png": "[encoded data removed]",
      "text/plain": [
       "<Figure size 432x288 with 1 Axes>"
      ]
     },
     "metadata": {},
     "output_type": "display_data"
    }
   ],
   "source": [
    "lrf=learn_data_agumentation.lr_find()\n",
    "learn_data_agumentation.sched.plot()"
   ]
  },
  {
   "cell_type": "code",
   "execution_count": 70,
   "metadata": {},
   "outputs": [
    {
     "data": {
      "application/vnd.jupyter.widget-view+json": {
       "model_id": "5732a626debb49fea489ae2c7ad7e101",
       "version_major": 2,
       "version_minor": 0
      },
      "text/plain": [
       "HBox(children=(IntProgress(value=0, description='Epoch', max=7), HTML(value='')))"
      ]
     },
     "metadata": {},
     "output_type": "display_data"
    },
    {
     "name": "stdout",
     "output_type": "stream",
     "text": [
      "epoch      trn_loss   val_loss   accuracy                  \n",
      "    0      0.957392   0.604855   0.790378  \n",
      "    1      0.727182   0.429174   0.845361                  \n",
      "    2      0.585396   0.377182   0.87858                   \n",
      "    3      0.551347   0.365206   0.879725                  \n",
      "    4      0.515196   0.334852   0.880871                  \n",
      "    5      0.452537   0.31346    0.888889                  \n",
      "    6      0.412271   0.303308   0.89118                   \n"
     ]
    },
    {
     "data": {
      "text/plain": [
       "[array([0.30331]), 0.891179839018967]"
      ]
     },
     "execution_count": 70,
     "metadata": {},
     "output_type": "execute_result"
    }
   ],
   "source": [
    "lr = 0.02\n",
    "learn_data_agumentation.fit(lr, 3, cycle_len=1, cycle_mult=2)"
   ]
  },
  {
   "cell_type": "code",
   "execution_count": 71,
   "metadata": {},
   "outputs": [
    {
     "data": {
      "application/vnd.jupyter.widget-view+json": {
       "model_id": "63a6d5a66ee240238ae3a9ae845f5a10",
       "version_major": 2,
       "version_minor": 0
      },
      "text/plain": [
       "HBox(children=(IntProgress(value=0, description='Epoch', max=7), HTML(value='')))"
      ]
     },
     "metadata": {},
     "output_type": "display_data"
    },
    {
     "name": "stdout",
     "output_type": "stream",
     "text": [
      "epoch      trn_loss   val_loss   accuracy                  \n",
      "    0      0.526287   0.207638   0.930126  \n",
      "    1      0.350133   0.135392   0.942726                  \n",
      "    2      0.239691   0.114405   0.957617                  \n",
      "    3      0.222001   0.162627   0.942726                  \n",
      "    4      0.185589   0.095108   0.959908                  \n",
      "    5      0.133034   0.086494   0.972509                  \n",
      "    6      0.10976    0.079654   0.970218                  \n"
     ]
    },
    {
     "data": {
      "text/plain": [
       "[array([0.07965]), 0.9702176414131436]"
      ]
     },
     "execution_count": 71,
     "metadata": {},
     "output_type": "execute_result"
    }
   ],
   "source": [
    "lrs = np.array([lr/9,lr/3,lr])\n",
    "learn_data_agumentation.unfreeze()\n",
    "learn_data_agumentation.fit(lrs, 3, cycle_len=1, cycle_mult=2)"
   ]
  },
  {
   "cell_type": "code",
   "execution_count": 72,
   "metadata": {},
   "outputs": [
    {
     "name": "stdout",
     "output_type": "stream",
     "text": [
      "                                             \r"
     ]
    }
   ],
   "source": [
    "multi_preds, y = learn.TTA()\n",
    "preds = np.mean(multi_preds, 0)"
   ]
  },
  {
   "cell_type": "code",
   "execution_count": 73,
   "metadata": {},
   "outputs": [
    {
     "data": {
      "text/plain": [
       "0.9736540664375716"
      ]
     },
     "execution_count": 73,
     "metadata": {},
     "output_type": "execute_result"
    }
   ],
   "source": [
    "accuracy_np(preds, y)"
   ]
  },
  {
   "cell_type": "code",
   "execution_count": 74,
   "metadata": {},
   "outputs": [
    {
     "name": "stdout",
     "output_type": "stream",
     "text": [
      "                                             \r"
     ]
    }
   ],
   "source": [
    "multi_preds, y = learn_data_agumentation.TTA()\n",
    "preds = np.mean(multi_preds, 0)"
   ]
  },
  {
   "cell_type": "code",
   "execution_count": 75,
   "metadata": {},
   "outputs": [
    {
     "data": {
      "text/plain": [
       "0.97709049255441"
      ]
     },
     "execution_count": 75,
     "metadata": {},
     "output_type": "execute_result"
    }
   ],
   "source": [
    "accuracy_np(preds,y)"
   ]
  },
  {
   "cell_type": "code",
   "execution_count": null,
   "metadata": {},
   "outputs": [],
   "source": []
  }
 ],
 "metadata": {
  "kernelspec": {
   "display_name": "Python 3",
   "language": "python",
   "name": "python3"
  },
  "language_info": {
   "codemirror_mode": {
    "name": "ipython",
    "version": 3
   },
   "file_extension": ".py",
   "mimetype": "text/x-python",
   "name": "python",
   "nbconvert_exporter": "python",
   "pygments_lexer": "ipython3",
   "version": "3.6.6"
  }
 },
 "nbformat": 4,
 "nbformat_minor": 2
}
