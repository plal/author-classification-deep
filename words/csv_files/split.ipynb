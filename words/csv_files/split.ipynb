{
 "cells": [
  {
   "cell_type": "code",
   "execution_count": 19,
   "metadata": {},
   "outputs": [],
   "source": [
    "import pandas as pd\n",
    "import numpy as np\n",
    "from sklearn.model_selection import train_test_split"
   ]
  },
  {
   "cell_type": "code",
   "execution_count": 20,
   "metadata": {},
   "outputs": [
    {
     "data": {
      "text/html": [
       "<div>\n",
       "<style scoped>\n",
       "    .dataframe tbody tr th:only-of-type {\n",
       "        vertical-align: middle;\n",
       "    }\n",
       "\n",
       "    .dataframe tbody tr th {\n",
       "        vertical-align: top;\n",
       "    }\n",
       "\n",
       "    .dataframe thead th {\n",
       "        text-align: right;\n",
       "    }\n",
       "</style>\n",
       "<table border=\"1\" class=\"dataframe\">\n",
       "  <thead>\n",
       "    <tr style=\"text-align: right;\">\n",
       "      <th></th>\n",
       "      <th>files</th>\n",
       "      <th>authors</th>\n",
       "    </tr>\n",
       "  </thead>\n",
       "  <tbody>\n",
       "    <tr>\n",
       "      <th>0</th>\n",
       "      <td>c03-000a-00-00.png</td>\n",
       "      <td>c03a</td>\n",
       "    </tr>\n",
       "    <tr>\n",
       "      <th>1</th>\n",
       "      <td>c03-000a-00-01.png</td>\n",
       "      <td>c03a</td>\n",
       "    </tr>\n",
       "    <tr>\n",
       "      <th>2</th>\n",
       "      <td>c03-000a-00-02.png</td>\n",
       "      <td>c03a</td>\n",
       "    </tr>\n",
       "    <tr>\n",
       "      <th>3</th>\n",
       "      <td>c03-000a-00-03.png</td>\n",
       "      <td>c03a</td>\n",
       "    </tr>\n",
       "    <tr>\n",
       "      <th>4</th>\n",
       "      <td>c03-000a-00-04.png</td>\n",
       "      <td>c03a</td>\n",
       "    </tr>\n",
       "  </tbody>\n",
       "</table>\n",
       "</div>"
      ],
      "text/plain": [
       "                files authors\n",
       "0  c03-000a-00-00.png    c03a\n",
       "1  c03-000a-00-01.png    c03a\n",
       "2  c03-000a-00-02.png    c03a\n",
       "3  c03-000a-00-03.png    c03a\n",
       "4  c03-000a-00-04.png    c03a"
      ]
     },
     "execution_count": 20,
     "metadata": {},
     "output_type": "execute_result"
    }
   ],
   "source": [
    "data = pd.read_csv('all.csv')\n",
    "data.head()"
   ]
  },
  {
   "cell_type": "code",
   "execution_count": 21,
   "metadata": {},
   "outputs": [],
   "source": [
    "train, test = train_test_split(data, test_size=0.2, shuffle=True, stratify=data[\"authors\"] )\n",
    "train, val  = train_test_split(train, test_size=0.1, shuffle=True, stratify=train[\"authors\"])"
   ]
  },
  {
   "cell_type": "code",
   "execution_count": 22,
   "metadata": {},
   "outputs": [
    {
     "data": {
      "text/html": [
       "<div>\n",
       "<style scoped>\n",
       "    .dataframe tbody tr th:only-of-type {\n",
       "        vertical-align: middle;\n",
       "    }\n",
       "\n",
       "    .dataframe tbody tr th {\n",
       "        vertical-align: top;\n",
       "    }\n",
       "\n",
       "    .dataframe thead th {\n",
       "        text-align: right;\n",
       "    }\n",
       "</style>\n",
       "<table border=\"1\" class=\"dataframe\">\n",
       "  <thead>\n",
       "    <tr style=\"text-align: right;\">\n",
       "      <th></th>\n",
       "      <th>files</th>\n",
       "      <th>authors</th>\n",
       "    </tr>\n",
       "  </thead>\n",
       "  <tbody>\n",
       "    <tr>\n",
       "      <th>14899</th>\n",
       "      <td>g06-050c-03-05.png</td>\n",
       "      <td>g06c</td>\n",
       "    </tr>\n",
       "    <tr>\n",
       "      <th>5440</th>\n",
       "      <td>g06-011k-09-04.png</td>\n",
       "      <td>g06k</td>\n",
       "    </tr>\n",
       "    <tr>\n",
       "      <th>896</th>\n",
       "      <td>c03-007a-06-05.png</td>\n",
       "      <td>c03a</td>\n",
       "    </tr>\n",
       "    <tr>\n",
       "      <th>11627</th>\n",
       "      <td>g06-042b-07-01.png</td>\n",
       "      <td>g06b</td>\n",
       "    </tr>\n",
       "    <tr>\n",
       "      <th>12349</th>\n",
       "      <td>g06-042o-02-04.png</td>\n",
       "      <td>g06o</td>\n",
       "    </tr>\n",
       "    <tr>\n",
       "      <th>...</th>\n",
       "      <td>...</td>\n",
       "      <td>...</td>\n",
       "    </tr>\n",
       "    <tr>\n",
       "      <th>2734</th>\n",
       "      <td>c03-084a-03-05.png</td>\n",
       "      <td>c03a</td>\n",
       "    </tr>\n",
       "    <tr>\n",
       "      <th>1356</th>\n",
       "      <td>c03-016b-01-04.png</td>\n",
       "      <td>c03b</td>\n",
       "    </tr>\n",
       "    <tr>\n",
       "      <th>1415</th>\n",
       "      <td>c03-016b-08-02.png</td>\n",
       "      <td>c03b</td>\n",
       "    </tr>\n",
       "    <tr>\n",
       "      <th>1894</th>\n",
       "      <td>c03-021c-02-01.png</td>\n",
       "      <td>c03c</td>\n",
       "    </tr>\n",
       "    <tr>\n",
       "      <th>7980</th>\n",
       "      <td>g06-026h-00-09.png</td>\n",
       "      <td>g06h</td>\n",
       "    </tr>\n",
       "  </tbody>\n",
       "</table>\n",
       "<p>11514 rows × 2 columns</p>\n",
       "</div>"
      ],
      "text/plain": [
       "                    files authors\n",
       "14899  g06-050c-03-05.png    g06c\n",
       "5440   g06-011k-09-04.png    g06k\n",
       "896    c03-007a-06-05.png    c03a\n",
       "11627  g06-042b-07-01.png    g06b\n",
       "12349  g06-042o-02-04.png    g06o\n",
       "...                   ...     ...\n",
       "2734   c03-084a-03-05.png    c03a\n",
       "1356   c03-016b-01-04.png    c03b\n",
       "1415   c03-016b-08-02.png    c03b\n",
       "1894   c03-021c-02-01.png    c03c\n",
       "7980   g06-026h-00-09.png    g06h\n",
       "\n",
       "[11514 rows x 2 columns]"
      ]
     },
     "execution_count": 22,
     "metadata": {},
     "output_type": "execute_result"
    }
   ],
   "source": [
    "train"
   ]
  },
  {
   "cell_type": "code",
   "execution_count": 23,
   "metadata": {},
   "outputs": [
    {
     "data": {
      "text/html": [
       "<div>\n",
       "<style scoped>\n",
       "    .dataframe tbody tr th:only-of-type {\n",
       "        vertical-align: middle;\n",
       "    }\n",
       "\n",
       "    .dataframe tbody tr th {\n",
       "        vertical-align: top;\n",
       "    }\n",
       "\n",
       "    .dataframe thead th {\n",
       "        text-align: right;\n",
       "    }\n",
       "</style>\n",
       "<table border=\"1\" class=\"dataframe\">\n",
       "  <thead>\n",
       "    <tr style=\"text-align: right;\">\n",
       "      <th></th>\n",
       "      <th>files</th>\n",
       "      <th>authors</th>\n",
       "    </tr>\n",
       "  </thead>\n",
       "  <tbody>\n",
       "    <tr>\n",
       "      <th>13314</th>\n",
       "      <td>g06-045m-05-08.png</td>\n",
       "      <td>g06m</td>\n",
       "    </tr>\n",
       "    <tr>\n",
       "      <th>13856</th>\n",
       "      <td>g06-047d-06-04.png</td>\n",
       "      <td>g06d</td>\n",
       "    </tr>\n",
       "    <tr>\n",
       "      <th>1402</th>\n",
       "      <td>c03-016b-06-08.png</td>\n",
       "      <td>c03b</td>\n",
       "    </tr>\n",
       "    <tr>\n",
       "      <th>8788</th>\n",
       "      <td>g06-031c-00-05.png</td>\n",
       "      <td>g06c</td>\n",
       "    </tr>\n",
       "    <tr>\n",
       "      <th>11360</th>\n",
       "      <td>g06-037p-02-04.png</td>\n",
       "      <td>g06p</td>\n",
       "    </tr>\n",
       "    <tr>\n",
       "      <th>...</th>\n",
       "      <td>...</td>\n",
       "      <td>...</td>\n",
       "    </tr>\n",
       "    <tr>\n",
       "      <th>14819</th>\n",
       "      <td>g06-050b-03-00.png</td>\n",
       "      <td>g06b</td>\n",
       "    </tr>\n",
       "    <tr>\n",
       "      <th>11018</th>\n",
       "      <td>g06-037l-03-04.png</td>\n",
       "      <td>g06l</td>\n",
       "    </tr>\n",
       "    <tr>\n",
       "      <th>6297</th>\n",
       "      <td>g06-018c-03-08.png</td>\n",
       "      <td>g06c</td>\n",
       "    </tr>\n",
       "    <tr>\n",
       "      <th>4685</th>\n",
       "      <td>g06-011c-09-07.png</td>\n",
       "      <td>g06c</td>\n",
       "    </tr>\n",
       "    <tr>\n",
       "      <th>4861</th>\n",
       "      <td>g06-011f-04-08.png</td>\n",
       "      <td>g06f</td>\n",
       "    </tr>\n",
       "  </tbody>\n",
       "</table>\n",
       "<p>3199 rows × 2 columns</p>\n",
       "</div>"
      ],
      "text/plain": [
       "                    files authors\n",
       "13314  g06-045m-05-08.png    g06m\n",
       "13856  g06-047d-06-04.png    g06d\n",
       "1402   c03-016b-06-08.png    c03b\n",
       "8788   g06-031c-00-05.png    g06c\n",
       "11360  g06-037p-02-04.png    g06p\n",
       "...                   ...     ...\n",
       "14819  g06-050b-03-00.png    g06b\n",
       "11018  g06-037l-03-04.png    g06l\n",
       "6297   g06-018c-03-08.png    g06c\n",
       "4685   g06-011c-09-07.png    g06c\n",
       "4861   g06-011f-04-08.png    g06f\n",
       "\n",
       "[3199 rows x 2 columns]"
      ]
     },
     "execution_count": 23,
     "metadata": {},
     "output_type": "execute_result"
    }
   ],
   "source": [
    "test"
   ]
  },
  {
   "cell_type": "code",
   "execution_count": 24,
   "metadata": {},
   "outputs": [
    {
     "data": {
      "text/html": [
       "<div>\n",
       "<style scoped>\n",
       "    .dataframe tbody tr th:only-of-type {\n",
       "        vertical-align: middle;\n",
       "    }\n",
       "\n",
       "    .dataframe tbody tr th {\n",
       "        vertical-align: top;\n",
       "    }\n",
       "\n",
       "    .dataframe thead th {\n",
       "        text-align: right;\n",
       "    }\n",
       "</style>\n",
       "<table border=\"1\" class=\"dataframe\">\n",
       "  <thead>\n",
       "    <tr style=\"text-align: right;\">\n",
       "      <th></th>\n",
       "      <th>files</th>\n",
       "      <th>authors</th>\n",
       "    </tr>\n",
       "  </thead>\n",
       "  <tbody>\n",
       "    <tr>\n",
       "      <th>5645</th>\n",
       "      <td>g06-011m-07-05.png</td>\n",
       "      <td>g06m</td>\n",
       "    </tr>\n",
       "    <tr>\n",
       "      <th>3577</th>\n",
       "      <td>c03-094b-00-07.png</td>\n",
       "      <td>c03b</td>\n",
       "    </tr>\n",
       "    <tr>\n",
       "      <th>7577</th>\n",
       "      <td>g06-026a-05-03.png</td>\n",
       "      <td>g06a</td>\n",
       "    </tr>\n",
       "    <tr>\n",
       "      <th>1592</th>\n",
       "      <td>c03-016d-08-09.png</td>\n",
       "      <td>c03d</td>\n",
       "    </tr>\n",
       "    <tr>\n",
       "      <th>13782</th>\n",
       "      <td>g06-047c-06-04.png</td>\n",
       "      <td>g06c</td>\n",
       "    </tr>\n",
       "    <tr>\n",
       "      <th>...</th>\n",
       "      <td>...</td>\n",
       "      <td>...</td>\n",
       "    </tr>\n",
       "    <tr>\n",
       "      <th>12652</th>\n",
       "      <td>g06-045c-02-05.png</td>\n",
       "      <td>g06c</td>\n",
       "    </tr>\n",
       "    <tr>\n",
       "      <th>3935</th>\n",
       "      <td>c03-094f-06-02.png</td>\n",
       "      <td>c03f</td>\n",
       "    </tr>\n",
       "    <tr>\n",
       "      <th>5330</th>\n",
       "      <td>g06-011j-09-08.png</td>\n",
       "      <td>g06j</td>\n",
       "    </tr>\n",
       "    <tr>\n",
       "      <th>5251</th>\n",
       "      <td>g06-011j-02-02.png</td>\n",
       "      <td>g06j</td>\n",
       "    </tr>\n",
       "    <tr>\n",
       "      <th>12926</th>\n",
       "      <td>g06-045g-03-09.png</td>\n",
       "      <td>g06g</td>\n",
       "    </tr>\n",
       "  </tbody>\n",
       "</table>\n",
       "<p>1280 rows × 2 columns</p>\n",
       "</div>"
      ],
      "text/plain": [
       "                    files authors\n",
       "5645   g06-011m-07-05.png    g06m\n",
       "3577   c03-094b-00-07.png    c03b\n",
       "7577   g06-026a-05-03.png    g06a\n",
       "1592   c03-016d-08-09.png    c03d\n",
       "13782  g06-047c-06-04.png    g06c\n",
       "...                   ...     ...\n",
       "12652  g06-045c-02-05.png    g06c\n",
       "3935   c03-094f-06-02.png    c03f\n",
       "5330   g06-011j-09-08.png    g06j\n",
       "5251   g06-011j-02-02.png    g06j\n",
       "12926  g06-045g-03-09.png    g06g\n",
       "\n",
       "[1280 rows x 2 columns]"
      ]
     },
     "execution_count": 24,
     "metadata": {},
     "output_type": "execute_result"
    }
   ],
   "source": [
    "val"
   ]
  },
  {
   "cell_type": "code",
   "execution_count": 27,
   "metadata": {},
   "outputs": [
    {
     "data": {
      "text/plain": [
       "['c03a',\n",
       " 'c03b',\n",
       " 'c03c',\n",
       " 'c03d',\n",
       " 'c03e',\n",
       " 'c03f',\n",
       " 'g06a',\n",
       " 'g06b',\n",
       " 'g06c',\n",
       " 'g06d',\n",
       " 'g06e',\n",
       " 'g06f',\n",
       " 'g06g',\n",
       " 'g06h',\n",
       " 'g06i',\n",
       " 'g06j',\n",
       " 'g06k',\n",
       " 'g06l',\n",
       " 'g06m',\n",
       " 'g06n',\n",
       " 'g06o',\n",
       " 'g06p',\n",
       " 'g06r']"
      ]
     },
     "execution_count": 27,
     "metadata": {},
     "output_type": "execute_result"
    }
   ],
   "source": [
    "sorted(train[\"authors\"].unique())"
   ]
  },
  {
   "cell_type": "code",
   "execution_count": 7,
   "metadata": {},
   "outputs": [
    {
     "data": {
      "text/plain": [
       "True"
      ]
     },
     "execution_count": 7,
     "metadata": {},
     "output_type": "execute_result"
    }
   ],
   "source": [
    "sorted(train[\"authors\"].unique()) == sorted(test[\"authors\"].unique()) == sorted(val[\"authors\"].unique())"
   ]
  },
  {
   "cell_type": "code",
   "execution_count": 16,
   "metadata": {},
   "outputs": [],
   "source": [
    "import shutil\n",
    "\n",
    "root_src = '../png_files/'\n",
    "root_train_dst = '../png_files/train/'\n",
    "root_test_dst = '../png_files/test/'\n",
    "root_val_dst = '../png_files/val/'"
   ]
  },
  {
   "cell_type": "code",
   "execution_count": 15,
   "metadata": {},
   "outputs": [],
   "source": [
    "for i, row in train.iterrows():\n",
    "#     print(root_src+row[0])\n",
    "#     print(root_train_dst+row[0])\n",
    "    shutil.move(root_src+row[0], root_train_dst+row[0])\n",
    "   "
   ]
  },
  {
   "cell_type": "code",
   "execution_count": 17,
   "metadata": {},
   "outputs": [],
   "source": [
    "for i, row in test.iterrows():\n",
    "#     print(root_src+row[0])\n",
    "#     print(root_train_dst+row[0])\n",
    "    shutil.move(root_src+row[0], root_test_dst+row[0])\n",
    "   "
   ]
  },
  {
   "cell_type": "code",
   "execution_count": 18,
   "metadata": {},
   "outputs": [],
   "source": [
    "for i, row in val.iterrows():\n",
    "#     print(root_src+row[0])\n",
    "#     print(root_train_dst+row[0])\n",
    "    shutil.move(root_src+row[0], root_val_dst+row[0])\n",
    "   "
   ]
  },
  {
   "cell_type": "code",
   "execution_count": null,
   "metadata": {},
   "outputs": [],
   "source": []
  }
 ],
 "metadata": {
  "kernelspec": {
   "display_name": "Python 3",
   "language": "python",
   "name": "python3"
  },
  "language_info": {
   "codemirror_mode": {
    "name": "ipython",
    "version": 3
   },
   "file_extension": ".py",
   "mimetype": "text/x-python",
   "name": "python",
   "nbconvert_exporter": "python",
   "pygments_lexer": "ipython3",
   "version": "3.7.6"
  }
 },
 "nbformat": 4,
 "nbformat_minor": 4
}
